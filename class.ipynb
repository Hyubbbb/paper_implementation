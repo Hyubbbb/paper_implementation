{
  "nbformat": 4,
  "nbformat_minor": 0,
  "metadata": {
    "colab": {
      "provenance": [],
      "authorship_tag": "ABX9TyPKr9c/ZNRGWgDPIKqjddbG",
      "include_colab_link": true
    },
    "kernelspec": {
      "name": "python3",
      "display_name": "Python 3"
    },
    "language_info": {
      "name": "python"
    }
  },
  "cells": [
    {
      "cell_type": "markdown",
      "metadata": {
        "id": "view-in-github",
        "colab_type": "text"
      },
      "source": [
        "<a href=\"https://colab.research.google.com/github/Hyubbbb/paper_implementation/blob/main/class.ipynb\" target=\"_parent\"><img src=\"https://colab.research.google.com/assets/colab-badge.svg\" alt=\"Open In Colab\"/></a>"
      ]
    },
    {
      "cell_type": "markdown",
      "source": [
        "## Class"
      ],
      "metadata": {
        "id": "2SHzw1WGKo2J"
      }
    },
    {
      "cell_type": "markdown",
      "source": [
        "__ xxxx __ : 매직 메소드\n",
        "- __ init __"
      ],
      "metadata": {
        "id": "ikYmpWdAKuRz"
      }
    },
    {
      "cell_type": "code",
      "execution_count": 1,
      "metadata": {
        "id": "NoThw2cCKkKY"
      },
      "outputs": [],
      "source": [
        "class Person:\n",
        "  def __init__(self):\n",
        "    print(\"객체 생성\")"
      ]
    },
    {
      "cell_type": "code",
      "source": [
        "p1 = Person()\n",
        "p2 = Person()"
      ],
      "metadata": {
        "colab": {
          "base_uri": "https://localhost:8080/"
        },
        "id": "pWgujXsJKoXZ",
        "outputId": "fc161c8c-932b-4626-a8ca-35b6f1093602"
      },
      "execution_count": 2,
      "outputs": [
        {
          "output_type": "stream",
          "name": "stdout",
          "text": [
            "객체 생성\n",
            "객체 생성\n"
          ]
        }
      ]
    },
    {
      "cell_type": "code",
      "source": [
        "print(id(Person), id(p1), id(p2))\n",
        "# 각자 메모리에 독립적으로 생성"
      ],
      "metadata": {
        "colab": {
          "base_uri": "https://localhost:8080/"
        },
        "id": "m3m7Vk72LIBM",
        "outputId": "88d66d13-738f-4b83-88c0-ea742f563f81"
      },
      "execution_count": 4,
      "outputs": [
        {
          "output_type": "stream",
          "name": "stdout",
          "text": [
            "51183840 140010525997520 140010525993104\n"
          ]
        }
      ]
    },
    {
      "cell_type": "code",
      "source": [
        "class Person:\n",
        "  count = 0\n",
        "  \n",
        "  def __init__(self, name):\n",
        "    self.age = 3000\n",
        "    self.name = name\n",
        "    Person.count += 1\n",
        "  \n",
        "  def get_count(self):\n",
        "    return Person.count"
      ],
      "metadata": {
        "id": "RFFGpvCdLOwC"
      },
      "execution_count": 7,
      "outputs": []
    },
    {
      "cell_type": "code",
      "source": [
        "p1 = Person(\"james\")\n",
        "p2 = Person(\"peter\")"
      ],
      "metadata": {
        "id": "1FDgR5yEL7MY"
      },
      "execution_count": 8,
      "outputs": []
    },
    {
      "cell_type": "code",
      "source": [
        "print(Person.count, p1.count, p2.count)"
      ],
      "metadata": {
        "colab": {
          "base_uri": "https://localhost:8080/"
        },
        "id": "rzZXZckeMP3C",
        "outputId": "96f61b02-1fd7-4272-9b7a-aaa082324ac7"
      },
      "execution_count": 9,
      "outputs": [
        {
          "output_type": "stream",
          "name": "stdout",
          "text": [
            "2 2 2\n"
          ]
        }
      ]
    },
    {
      "cell_type": "markdown",
      "source": [
        "### 1. 클래스 속성 (클래스 내부 속성)은 클래스가 정의된 메모리에서 각 인스턴스가 참조\n",
        "  - e.g. count"
      ],
      "metadata": {
        "id": "wHF--CRGMcv_"
      }
    },
    {
      "cell_type": "code",
      "source": [
        "print(id(Person.count), id(p1.count), id(p2.count)) # same"
      ],
      "metadata": {
        "colab": {
          "base_uri": "https://localhost:8080/"
        },
        "id": "ea_DJOxTMcLH",
        "outputId": "0f7761ae-9986-4c1f-bf05-8da6e71f4470"
      },
      "execution_count": 10,
      "outputs": [
        {
          "output_type": "stream",
          "name": "stdout",
          "text": [
            "140011013669136 140011013669136 140011013669136\n"
          ]
        }
      ]
    },
    {
      "cell_type": "markdown",
      "source": [
        "즉, Person.count 의 숫자를 바꾸면 모든 인스턴스의 count 또한 바뀌게 된다."
      ],
      "metadata": {
        "id": "yBBtj_KsNN76"
      }
    },
    {
      "cell_type": "code",
      "source": [
        "Person.count = 200\n",
        "print(Person.count, p1.count, p2.count)"
      ],
      "metadata": {
        "colab": {
          "base_uri": "https://localhost:8080/"
        },
        "id": "tSVvDO2uMtvj",
        "outputId": "3de88b02-2afe-4ce7-f3a0-b873af1a8791"
      },
      "execution_count": 11,
      "outputs": [
        {
          "output_type": "stream",
          "name": "stdout",
          "text": [
            "200 200 200\n"
          ]
        }
      ]
    },
    {
      "cell_type": "markdown",
      "source": [
        "IF 인스턴스의 count 의 값을 변경?"
      ],
      "metadata": {
        "id": "QHnvtO4SNXuQ"
      }
    },
    {
      "cell_type": "code",
      "source": [
        "p2.count = 123\n",
        "print(Person.count, p1.count, p2.count)"
      ],
      "metadata": {
        "colab": {
          "base_uri": "https://localhost:8080/"
        },
        "id": "P1SnzI6GNSbo",
        "outputId": "027855b6-f5ff-4122-e821-a89d0717ef95"
      },
      "execution_count": 12,
      "outputs": [
        {
          "output_type": "stream",
          "name": "stdout",
          "text": [
            "200 200 123\n"
          ]
        }
      ]
    },
    {
      "cell_type": "markdown",
      "source": [
        "새로 할당한 인스턴스 속성만 변경됨\n",
        "\n",
        "나머지는 그대로 **클래스 속성** 반환"
      ],
      "metadata": {
        "id": "Knj7I15TPbGN"
      }
    },
    {
      "cell_type": "code",
      "source": [
        "print(id(Person.count), id(p1.count), id(p2.count))"
      ],
      "metadata": {
        "colab": {
          "base_uri": "https://localhost:8080/"
        },
        "id": "0-J38MN8NeYr",
        "outputId": "38abb20f-9ff0-491f-a372-5650a2da4f10"
      },
      "execution_count": 13,
      "outputs": [
        {
          "output_type": "stream",
          "name": "stdout",
          "text": [
            "140011013675472 140011013675472 140011013673008\n"
          ]
        }
      ]
    },
    {
      "cell_type": "markdown",
      "source": [
        "변경한 p2의 인스턴스 속성이 새로 만들어짐\n",
        "\n",
        "- p2의 클래스 속성이 없어진 건 아니다.\n",
        "\n",
        "  -> `get_count()`를 통해 클래스 속성 반환 가능"
      ],
      "metadata": {
        "id": "ogozHZmEPpfD"
      }
    },
    {
      "cell_type": "code",
      "source": [
        "p2.get_count()"
      ],
      "metadata": {
        "colab": {
          "base_uri": "https://localhost:8080/"
        },
        "id": "lwfCkGLVPljN",
        "outputId": "7b063d5b-9510-4748-b190-d73e3725703d"
      },
      "execution_count": 14,
      "outputs": [
        {
          "output_type": "execute_result",
          "data": {
            "text/plain": [
              "200"
            ]
          },
          "metadata": {},
          "execution_count": 14
        }
      ]
    },
    {
      "cell_type": "markdown",
      "source": [
        "### 2. `__init__`메서드는 객체 생성시 호출이 될때 생성"
      ],
      "metadata": {
        "id": "dNjT06R5QHOA"
      }
    },
    {
      "cell_type": "code",
      "source": [
        "class Person:\n",
        "  count = 0\n",
        "  \n",
        "  def __init__(self, name):\n",
        "    self.age = 3000\n",
        "    self.name = name\n",
        "    Person.count += 1\n",
        "  \n",
        "  def get_count(self):\n",
        "    return Person.count"
      ],
      "metadata": {
        "id": "gyqTNXTWP5Ay"
      },
      "execution_count": 15,
      "outputs": []
    },
    {
      "cell_type": "code",
      "source": [
        "p1 = Person('james')\n",
        "p2 = Person('peter')"
      ],
      "metadata": {
        "id": "eEcA10vMQWNZ"
      },
      "execution_count": 16,
      "outputs": []
    },
    {
      "cell_type": "code",
      "source": [
        "print(id(Person.age))"
      ],
      "metadata": {
        "colab": {
          "base_uri": "https://localhost:8080/",
          "height": 170
        },
        "id": "Ukeub5XOQaOj",
        "outputId": "cd285680-333b-41b1-a11b-5ed299f4b3a3"
      },
      "execution_count": 17,
      "outputs": [
        {
          "output_type": "error",
          "ename": "AttributeError",
          "evalue": "ignored",
          "traceback": [
            "\u001b[0;31m---------------------------------------------------------------------------\u001b[0m",
            "\u001b[0;31mAttributeError\u001b[0m                            Traceback (most recent call last)",
            "\u001b[0;32m<ipython-input-17-3d74aa898f78>\u001b[0m in \u001b[0;36m<cell line: 1>\u001b[0;34m()\u001b[0m\n\u001b[0;32m----> 1\u001b[0;31m \u001b[0mprint\u001b[0m\u001b[0;34m(\u001b[0m\u001b[0mid\u001b[0m\u001b[0;34m(\u001b[0m\u001b[0mPerson\u001b[0m\u001b[0;34m.\u001b[0m\u001b[0mage\u001b[0m\u001b[0;34m)\u001b[0m\u001b[0;34m)\u001b[0m\u001b[0;34m\u001b[0m\u001b[0;34m\u001b[0m\u001b[0m\n\u001b[0m",
            "\u001b[0;31mAttributeError\u001b[0m: type object 'Person' has no attribute 'age'"
          ]
        }
      ]
    },
    {
      "cell_type": "code",
      "source": [
        "print(id(p1.age))"
      ],
      "metadata": {
        "colab": {
          "base_uri": "https://localhost:8080/"
        },
        "id": "6QUy5DytQgf7",
        "outputId": "3d02d41b-febd-4d19-e209-e83d059950cb"
      },
      "execution_count": 19,
      "outputs": [
        {
          "output_type": "stream",
          "name": "stdout",
          "text": [
            "140010527543312\n"
          ]
        }
      ]
    },
    {
      "cell_type": "markdown",
      "source": [
        "- 클래스 말고 객체 생성 시에 생성된다."
      ],
      "metadata": {
        "id": "pCgaB1uTQm3l"
      }
    },
    {
      "cell_type": "markdown",
      "source": [
        " ### 3. `__init__` 메서드를 통해 객체 생성시 만들어진 변수들은 모두 독립된 메모리에 저장"
      ],
      "metadata": {
        "id": "199j2517Qwjh"
      }
    },
    {
      "cell_type": "markdown",
      "source": [
        "self 라는 항목이 붙은 것은 각 객체 안에서만 통용되는 인스턴스 속성라고 생각하면 된다. \n",
        "\n",
        "즉, 한 객체에서 self.age를 바꾸어도 다른 객체에서는 영향을 받지 않는다.\n",
        "\n",
        " "
      ],
      "metadata": {
        "id": "Ie8JKFKjQ2ZA"
      }
    },
    {
      "cell_type": "code",
      "source": [
        "class Person:\n",
        "  count = 0\n",
        "  \n",
        "  def __init__(self, name):\n",
        "    self.age = 3000\n",
        "    self.name = name\n",
        "    Person.count += 1\n",
        "  \n",
        "  def get_count(self):\n",
        "    return Person.count"
      ],
      "metadata": {
        "id": "-aDQwd4WQiGW"
      },
      "execution_count": 20,
      "outputs": []
    },
    {
      "cell_type": "code",
      "source": [
        "p1 = Person('james')\n",
        "p2 = Person('peter')"
      ],
      "metadata": {
        "id": "kGOk6dzCQ_iD"
      },
      "execution_count": 21,
      "outputs": []
    },
    {
      "cell_type": "code",
      "source": [
        "print(p1.age, p2.age)\n",
        "\n",
        "p1.age = 24\n",
        "\n",
        "print(p1.age, p2.age)"
      ],
      "metadata": {
        "colab": {
          "base_uri": "https://localhost:8080/"
        },
        "id": "DsvytwpBRAtH",
        "outputId": "86116986-9037-40ae-ab61-99714169969c"
      },
      "execution_count": 22,
      "outputs": [
        {
          "output_type": "stream",
          "name": "stdout",
          "text": [
            "3000 3000\n",
            "24 3000\n"
          ]
        }
      ]
    },
    {
      "cell_type": "markdown",
      "source": [
        "## Class 상속"
      ],
      "metadata": {
        "id": "237d6PmiRK0n"
      }
    },
    {
      "cell_type": "code",
      "source": [
        "class Human:\n",
        "  \"\"\" Super Class \"\"\"\n",
        "  \n",
        "  # class 속성\n",
        "  name = '사람이름'\n",
        "  age = '나이'\n",
        "  city = '사는도시'\n",
        "\n",
        "  def show(self):\n",
        "    print(\"사람 클래스의 메소드입니다.\")\n",
        "\n",
        "\n",
        "class Student(Human):\n",
        "  \"\"\" Child Class \"\"\"\n",
        "\n",
        "  def __init__(self, name):\n",
        "    self.name = name\n",
        "\n",
        "  def show_name(self):\n",
        "    print('사람의 이름은 : ', self.name)\n",
        "\n",
        "  def show_age(self):\n",
        "    print('사람의 나이는 : ', self.age)"
      ],
      "metadata": {
        "id": "Chr5_x-ZRFLE"
      },
      "execution_count": 23,
      "outputs": []
    },
    {
      "cell_type": "code",
      "source": [
        "a = Student('james')\n",
        "\n",
        "a.show()      # 메소드 상속\n",
        "a.show_age()  # 속성 상속\n",
        "a.show_name() # 자식노드에서 속성을 변경"
      ],
      "metadata": {
        "colab": {
          "base_uri": "https://localhost:8080/"
        },
        "id": "uy_fiz9EYHb2",
        "outputId": "3e958cc2-f994-4dfc-a041-fa66fc2d3df6"
      },
      "execution_count": 24,
      "outputs": [
        {
          "output_type": "stream",
          "name": "stdout",
          "text": [
            "사람 클래스의 메소드입니다.\n",
            "사람의 나이는 :  나이\n",
            "사람의 이름은 :  james\n"
          ]
        }
      ]
    },
    {
      "cell_type": "markdown",
      "source": [
        "### 부모 클래스의 인스턴스 속성은 자식 클래스에 상속 X\n",
        "- <-> 클래스 속성"
      ],
      "metadata": {
        "id": "JGAQSBr2ZVNE"
      }
    },
    {
      "cell_type": "code",
      "source": [
        "class Human:\n",
        "  \"\"\" Super Class \"\"\"\n",
        "  \n",
        "  def __init__(self):\n",
        "    # instance 속성\n",
        "    self.name = '사람이름'\n",
        "    self.age = '나이'\n",
        "    self.city = '사는도시'\n",
        "\n",
        "  def show(self):\n",
        "    print(\"사람 클래스의 메소드입니다.\")\n",
        "\n",
        "\n",
        "class Student(Human):\n",
        "  \"\"\" Child Class \"\"\"\n",
        "\n",
        "  def __init__(self, name):\n",
        "    self.name = name\n",
        "\n",
        "  def show_name(self):\n",
        "    print('사람의 이름은 : ', self.name)\n",
        "\n",
        "  def show_age(self):\n",
        "    print('사람의 나이는 : ', self.age)"
      ],
      "metadata": {
        "id": "weIdncGXYSjH"
      },
      "execution_count": 26,
      "outputs": []
    },
    {
      "cell_type": "code",
      "source": [
        "a = Student('james')\n",
        "\n",
        "a.show()      # 메소드 상속\n",
        "a.show_age()  # 속성 상속\n",
        "a.show_name() # 자식노드에서 속성을 변경"
      ],
      "metadata": {
        "colab": {
          "base_uri": "https://localhost:8080/",
          "height": 330
        },
        "id": "O00jTaWCZ0p8",
        "outputId": "c4d8f689-42c6-4110-85dd-10d2dc855eff"
      },
      "execution_count": 27,
      "outputs": [
        {
          "output_type": "stream",
          "name": "stdout",
          "text": [
            "사람 클래스의 메소드입니다.\n"
          ]
        },
        {
          "output_type": "error",
          "ename": "AttributeError",
          "evalue": "ignored",
          "traceback": [
            "\u001b[0;31m---------------------------------------------------------------------------\u001b[0m",
            "\u001b[0;31mAttributeError\u001b[0m                            Traceback (most recent call last)",
            "\u001b[0;32m<ipython-input-27-ed3cecf9baa8>\u001b[0m in \u001b[0;36m<cell line: 4>\u001b[0;34m()\u001b[0m\n\u001b[1;32m      2\u001b[0m \u001b[0;34m\u001b[0m\u001b[0m\n\u001b[1;32m      3\u001b[0m \u001b[0ma\u001b[0m\u001b[0;34m.\u001b[0m\u001b[0mshow\u001b[0m\u001b[0;34m(\u001b[0m\u001b[0;34m)\u001b[0m      \u001b[0;31m# 메소드 상속\u001b[0m\u001b[0;34m\u001b[0m\u001b[0;34m\u001b[0m\u001b[0m\n\u001b[0;32m----> 4\u001b[0;31m \u001b[0ma\u001b[0m\u001b[0;34m.\u001b[0m\u001b[0mshow_age\u001b[0m\u001b[0;34m(\u001b[0m\u001b[0;34m)\u001b[0m  \u001b[0;31m# 속성 상속\u001b[0m\u001b[0;34m\u001b[0m\u001b[0;34m\u001b[0m\u001b[0m\n\u001b[0m\u001b[1;32m      5\u001b[0m \u001b[0ma\u001b[0m\u001b[0;34m.\u001b[0m\u001b[0mshow_name\u001b[0m\u001b[0;34m(\u001b[0m\u001b[0;34m)\u001b[0m \u001b[0;31m# 자식노드에서 속성을 변경\u001b[0m\u001b[0;34m\u001b[0m\u001b[0;34m\u001b[0m\u001b[0m\n",
            "\u001b[0;32m<ipython-input-26-e87ac33af801>\u001b[0m in \u001b[0;36mshow_age\u001b[0;34m(self)\u001b[0m\n\u001b[1;32m     22\u001b[0m \u001b[0;34m\u001b[0m\u001b[0m\n\u001b[1;32m     23\u001b[0m   \u001b[0;32mdef\u001b[0m \u001b[0mshow_age\u001b[0m\u001b[0;34m(\u001b[0m\u001b[0mself\u001b[0m\u001b[0;34m)\u001b[0m\u001b[0;34m:\u001b[0m\u001b[0;34m\u001b[0m\u001b[0;34m\u001b[0m\u001b[0m\n\u001b[0;32m---> 24\u001b[0;31m     \u001b[0mprint\u001b[0m\u001b[0;34m(\u001b[0m\u001b[0;34m'사람의 나이는 : '\u001b[0m\u001b[0;34m,\u001b[0m \u001b[0mself\u001b[0m\u001b[0;34m.\u001b[0m\u001b[0mage\u001b[0m\u001b[0;34m)\u001b[0m\u001b[0;34m\u001b[0m\u001b[0;34m\u001b[0m\u001b[0m\n\u001b[0m",
            "\u001b[0;31mAttributeError\u001b[0m: 'Student' object has no attribute 'age'"
          ]
        }
      ]
    },
    {
      "cell_type": "markdown",
      "source": [
        "### super()"
      ],
      "metadata": {
        "id": "JBfi2Ni2bn9J"
      }
    },
    {
      "cell_type": "code",
      "source": [
        "class Human:\n",
        "  \"\"\" Super Class \"\"\"\n",
        "  \n",
        "  def __init__(self):\n",
        "    # instance 속성\n",
        "    self.name = '사람이름'\n",
        "    self.age = '나이'\n",
        "    self.city = '사는도시'\n",
        "\n",
        "  def show(self):\n",
        "    print(\"사람 클래스의 메소드입니다.\")\n",
        "\n",
        "\n",
        "class Student(Human):\n",
        "  \"\"\" Child Class \"\"\"\n",
        "\n",
        "  def __init__(self, name):\n",
        "    super().__init__()\n",
        "    self.name = name\n",
        "\n",
        "  def show_name(self):\n",
        "    print('사람의 이름은 : ', self.name)\n",
        "\n",
        "  def show_age(self):\n",
        "    print('사람의 나이는 : ', self.age)"
      ],
      "metadata": {
        "id": "LDiqPj2iZ_g5"
      },
      "execution_count": 28,
      "outputs": []
    },
    {
      "cell_type": "code",
      "source": [
        "a = Student('james')\n",
        "\n",
        "a.show()      # 메소드 상속\n",
        "a.show_age()  # 속성 상속\n",
        "a.show_name() # 자식노드에서 속성을 변경"
      ],
      "metadata": {
        "colab": {
          "base_uri": "https://localhost:8080/"
        },
        "id": "0L3OB6GIb9mK",
        "outputId": "f21c93de-c5ff-4220-c50a-6ab246ada62a"
      },
      "execution_count": 29,
      "outputs": [
        {
          "output_type": "stream",
          "name": "stdout",
          "text": [
            "사람 클래스의 메소드입니다.\n",
            "사람의 나이는 :  나이\n",
            "사람의 이름은 :  james\n"
          ]
        }
      ]
    },
    {
      "cell_type": "markdown",
      "source": [
        "### 일반화"
      ],
      "metadata": {
        "id": "TZxSyFQEch_5"
      }
    },
    {
      "cell_type": "code",
      "source": [
        "class Human:\n",
        "  \"\"\" Super Class \"\"\"\n",
        "  \n",
        "  def __init__(self):\n",
        "    # instance 속성\n",
        "    self.name = '사람이름'\n",
        "    self.age = '나이'\n",
        "    self.city = '사는도시'\n",
        "\n",
        "  def show_everything(self):\n",
        "    print(\"사람 클래스의 메소드입니다.\")\n",
        "    print(self.name, self.age, self.city)\n",
        "\n",
        "\n",
        "class Student(Human):\n",
        "  \"\"\" Child Class \"\"\"\n",
        "\n",
        "  def __init__(self, name):\n",
        "    super().__init__()\n",
        "    self.name = name\n",
        "\n",
        "  def show_name(self):\n",
        "    super().show_everything()\n",
        "    print('사람의 이름은 : ', self.name)\n",
        "\n",
        "  def show_age(self):\n",
        "    print('사람의 나이는 : ', self.age)"
      ],
      "metadata": {
        "id": "0aWU9ji2cFyP"
      },
      "execution_count": 30,
      "outputs": []
    },
    {
      "cell_type": "code",
      "source": [
        "a = Student('james')\n",
        "\n",
        "a.show_name()"
      ],
      "metadata": {
        "colab": {
          "base_uri": "https://localhost:8080/"
        },
        "id": "vRqInx86cwR9",
        "outputId": "5cc4d2c8-5685-47ba-d3cc-18ae16215841"
      },
      "execution_count": 31,
      "outputs": [
        {
          "output_type": "stream",
          "name": "stdout",
          "text": [
            "사람 클래스의 메소드입니다.\n",
            "james 나이 사는도시\n",
            "사람의 이름은 :  james\n"
          ]
        }
      ]
    },
    {
      "cell_type": "markdown",
      "source": [
        "### `super()` 제대로 알기"
      ],
      "metadata": {
        "id": "YtLERH9DebEq"
      }
    },
    {
      "cell_type": "code",
      "source": [
        "class Student(Human):\n",
        "  def __init__(self):\n",
        "    super(Student, self).__init__()"
      ],
      "metadata": {
        "id": "PxwSt5BHeatD"
      },
      "execution_count": 32,
      "outputs": []
    },
    {
      "cell_type": "code",
      "source": [
        "class A:\n",
        "  def __init__(self):\n",
        "    self.a = 10\n",
        "  \n",
        "  def get_a(self):\n",
        "    return self.a\n",
        "  \n",
        "class B(A):\n",
        "  def __init__(self):\n",
        "    super().__init__()\n",
        "    self.b = 20\n",
        "  \n",
        "  def get_b(self):\n",
        "    return self.b\n",
        "\n",
        "class C(B):\n",
        "  def __init__(self):\n",
        "    super().__init__()\n",
        "    self.c = 30\n",
        "  \n",
        "  def get_c(self):\n",
        "    return self.c"
      ],
      "metadata": {
        "id": "AGRMvImkc03X"
      },
      "execution_count": 36,
      "outputs": []
    },
    {
      "cell_type": "code",
      "source": [
        "new_c = C()\n",
        "\n",
        "print(new_c.get_a())\n",
        "print(new_c.get_b())\n",
        "print(new_c.get_c())"
      ],
      "metadata": {
        "colab": {
          "base_uri": "https://localhost:8080/"
        },
        "id": "k1ZbpPIBgoZt",
        "outputId": "cabe1295-21f5-4199-e218-1d4d91ab7a4e"
      },
      "execution_count": 37,
      "outputs": [
        {
          "output_type": "stream",
          "name": "stdout",
          "text": [
            "10\n",
            "20\n",
            "30\n"
          ]
        }
      ]
    },
    {
      "cell_type": "markdown",
      "source": [
        "#### 연속 상속에서의 super(자식 클래스, self).__init__()\n",
        "\n"
      ],
      "metadata": {
        "id": "qr70Yg6AhXMo"
      }
    },
    {
      "cell_type": "code",
      "source": [
        "class A:\n",
        "  def __init__(self):\n",
        "    self.a = 10\n",
        "  \n",
        "  def get_a(self):\n",
        "    return self.a\n",
        "  \n",
        "class B(A):\n",
        "  def __init__(self):\n",
        "    super(B, self).__init__()\n",
        "    self.b = 20\n",
        "  \n",
        "  def get_b(self):\n",
        "    return self.b\n",
        "\n",
        "class C(B):\n",
        "  def __init__(self):\n",
        "    super(C, self).__init__()\n",
        "    self.c = 30\n",
        "  \n",
        "  def get_c(self):\n",
        "    return self.c"
      ],
      "metadata": {
        "id": "fejvzUqqgziZ"
      },
      "execution_count": 38,
      "outputs": []
    },
    {
      "cell_type": "code",
      "source": [
        "new_c = C()\n",
        "\n",
        "print(new_c.get_a())\n",
        "print(new_c.get_b())\n",
        "print(new_c.get_c())"
      ],
      "metadata": {
        "colab": {
          "base_uri": "https://localhost:8080/"
        },
        "id": "w-oU8ByNiY3N",
        "outputId": "a0873de8-4fff-459b-a22a-35dc3fd32a96"
      },
      "execution_count": 39,
      "outputs": [
        {
          "output_type": "stream",
          "name": "stdout",
          "text": [
            "10\n",
            "20\n",
            "30\n"
          ]
        }
      ]
    },
    {
      "cell_type": "markdown",
      "source": [
        "#### 연속 상속에서의 super(부모 클래스, self).__init__()"
      ],
      "metadata": {
        "id": "RaB2NVegipT6"
      }
    },
    {
      "cell_type": "code",
      "source": [
        "class A:\n",
        "  def __init__(self):\n",
        "    self.a = 10\n",
        "  \n",
        "  def get_a(self):\n",
        "    return self.a\n",
        "  \n",
        "class B(A):\n",
        "  def __init__(self):\n",
        "    super(B, self).__init__()\n",
        "    self.b = 20\n",
        "  \n",
        "  def get_b(self):\n",
        "    return self.b\n",
        "\n",
        "class C(B):\n",
        "  def __init__(self):\n",
        "    super(B, self).__init__()\n",
        "    self.c = 30\n",
        "  \n",
        "  def get_c(self):\n",
        "    return self.c"
      ],
      "metadata": {
        "id": "houeXnWuiauH"
      },
      "execution_count": 40,
      "outputs": []
    },
    {
      "cell_type": "code",
      "source": [
        "new_c = C()\n",
        "\n",
        "print(new_c.get_a())\n",
        "# print(new_c.get_b())\n",
        "print(new_c.get_c())"
      ],
      "metadata": {
        "colab": {
          "base_uri": "https://localhost:8080/"
        },
        "id": "Ks2RlU88jbF6",
        "outputId": "edd79233-eb2d-41f5-b9ef-9ddc9e2f3325"
      },
      "execution_count": 41,
      "outputs": [
        {
          "output_type": "stream",
          "name": "stdout",
          "text": [
            "10\n",
            "30\n"
          ]
        }
      ]
    },
    {
      "cell_type": "code",
      "source": [
        "print(new_c.get_b())"
      ],
      "metadata": {
        "colab": {
          "base_uri": "https://localhost:8080/",
          "height": 295
        },
        "id": "0jAYZykajecq",
        "outputId": "1b0ce380-ba03-4e40-8c8a-2f23b89bdb7c"
      },
      "execution_count": 42,
      "outputs": [
        {
          "output_type": "error",
          "ename": "AttributeError",
          "evalue": "ignored",
          "traceback": [
            "\u001b[0;31m---------------------------------------------------------------------------\u001b[0m",
            "\u001b[0;31mAttributeError\u001b[0m                            Traceback (most recent call last)",
            "\u001b[0;32m<ipython-input-42-c90997ce1a7b>\u001b[0m in \u001b[0;36m<cell line: 1>\u001b[0;34m()\u001b[0m\n\u001b[0;32m----> 1\u001b[0;31m \u001b[0mprint\u001b[0m\u001b[0;34m(\u001b[0m\u001b[0mnew_c\u001b[0m\u001b[0;34m.\u001b[0m\u001b[0mget_b\u001b[0m\u001b[0;34m(\u001b[0m\u001b[0;34m)\u001b[0m\u001b[0;34m)\u001b[0m\u001b[0;34m\u001b[0m\u001b[0;34m\u001b[0m\u001b[0m\n\u001b[0m",
            "\u001b[0;32m<ipython-input-40-e35f02568d92>\u001b[0m in \u001b[0;36mget_b\u001b[0;34m(self)\u001b[0m\n\u001b[1;32m     12\u001b[0m \u001b[0;34m\u001b[0m\u001b[0m\n\u001b[1;32m     13\u001b[0m   \u001b[0;32mdef\u001b[0m \u001b[0mget_b\u001b[0m\u001b[0;34m(\u001b[0m\u001b[0mself\u001b[0m\u001b[0;34m)\u001b[0m\u001b[0;34m:\u001b[0m\u001b[0;34m\u001b[0m\u001b[0;34m\u001b[0m\u001b[0m\n\u001b[0;32m---> 14\u001b[0;31m     \u001b[0;32mreturn\u001b[0m \u001b[0mself\u001b[0m\u001b[0;34m.\u001b[0m\u001b[0mb\u001b[0m\u001b[0;34m\u001b[0m\u001b[0;34m\u001b[0m\u001b[0m\n\u001b[0m\u001b[1;32m     15\u001b[0m \u001b[0;34m\u001b[0m\u001b[0m\n\u001b[1;32m     16\u001b[0m \u001b[0;32mclass\u001b[0m \u001b[0mC\u001b[0m\u001b[0;34m(\u001b[0m\u001b[0mB\u001b[0m\u001b[0;34m)\u001b[0m\u001b[0;34m:\u001b[0m\u001b[0;34m\u001b[0m\u001b[0;34m\u001b[0m\u001b[0m\n",
            "\u001b[0;31mAttributeError\u001b[0m: 'C' object has no attribute 'b'"
          ]
        }
      ]
    },
    {
      "cell_type": "code",
      "source": [],
      "metadata": {
        "id": "UABX0VW-jf5K"
      },
      "execution_count": null,
      "outputs": []
    }
  ]
}